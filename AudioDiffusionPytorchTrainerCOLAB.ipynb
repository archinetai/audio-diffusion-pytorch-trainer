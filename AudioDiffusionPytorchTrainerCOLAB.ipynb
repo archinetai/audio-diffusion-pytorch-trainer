{
  "nbformat": 4,
  "nbformat_minor": 0,
  "metadata": {
    "colab": {
      "provenance": []
    },
    "kernelspec": {
      "name": "python3",
      "display_name": "Python 3"
    },
    "language_info": {
      "name": "python"
    }
  },
  "cells": [
    {
      "cell_type": "code",
      "execution_count": null,
      "metadata": {
        "cellView": "form",
        "id": "oHnWh5JLnkGc"
      },
      "outputs": [],
      "source": [
        "#@title Setup \n",
        "!git clone https://github.com/archinetai/audio-diffusion-pytorch-trainer\n",
        "!cd /content/audio-diffusion-pytorch-trainer\n",
        "import os\n",
        "os.chdir('/content/audio-diffusion-pytorch-trainer')\n",
        "!pip install -r requirements.txt\n",
        "!cp ./.env.tmp ./.env"
      ]
    },
    {
      "cell_type": "code",
      "source": [
        "#@title Setup paths, logins and logging\n",
        "#@markdown Setup the .env file options\n",
        "custom_log_path = 'logs'#@param {type: 'string'}\n",
        "custom_data_path = 'data'#@param {type: 'string'}\n",
        "WANDB_PROJECT = 'projectName'#@param {type: 'string'}\n",
        "#@markdown weights and biases username\n",
        "#@markdown Required if using wandb logger\n",
        "WANDB_ENTITY = 'username'#@param {type: 'string'}\n",
        "#@markdown weights and biases API key\n",
        "WANDB_API_KEY = '12312312312312312'#@param {type: 'string'}\n",
        "#@markdown huggingface API key\n",
        "#@markdown Required if using Common Voice dataset\n",
        "HUGGINGFACE_TOKEN = '123123123123123'#@param {type: 'string'}\n",
        "\n",
        "json_loc = f'/content/audio-diffusion-pytorch-trainer/.env'\n",
        "file = open(json_loc, \"r\")\n",
        "replacement = \"\"\n",
        "\n",
        "# using the for loop\n",
        "for count, line in enumerate(file):\n",
        "    line = line.strip()  \n",
        "    if 0 == count:\n",
        "      line=  changes = f\"DIR_LOGS=/content/{custom_log_path}\"\n",
        "    if 1 == count:\n",
        "      line= changes = f\"DIR_DATA=/content/{custom_data_path}\"\n",
        "      \n",
        "    changes = line.replace(\"WANDB_PROJECT=wandbprojectname\", f\"WANDB_PROJECT={WANDB_PROJECT}\")  \n",
        "    changes = changes.replace(\"WANDB_ENTITY=wandbuser\", f\"WANDB_ENTITY={WANDB_ENTITY}\")  \n",
        "    changes = changes.replace(\"WANDB_API_KEY=wandbapikey\", f\"WANDB_API_KEY={WANDB_API_KEY}\")  \n",
        "    changes = changes.replace(\"HUGGINGFACE_TOKEN=huggingfacetoken\", f\"HUGGINGFACE_TOKEN={HUGGINGFACE_TOKEN}\")  \n",
        "    replacement = replacement + changes + \"\\n\"\n",
        "with open(json_loc, 'w') as f:\n",
        "    f.write(replacement)\n",
        "f.close()  "
      ],
      "metadata": {
        "cellView": "form",
        "id": "nscUZDZGoY-c"
      },
      "execution_count": 18,
      "outputs": []
    },
    {
      "cell_type": "code",
      "source": [
        "!cat /content/audio-diffusion-pytorch-trainer/.env"
      ],
      "metadata": {
        "colab": {
          "base_uri": "https://localhost:8080/"
        },
        "id": "l0FUhIlSreLt",
        "outputId": "0cabafb3-455f-4265-e21f-eb699c8c184e"
      },
      "execution_count": 19,
      "outputs": [
        {
          "output_type": "stream",
          "name": "stdout",
          "text": [
            "DIR_LOGS=/content/logs\n",
            "DIR_DATA=/content/data\n",
            "\n",
            "# Required if using wandb logger\n",
            "WANDB_PROJECT=projectName\n",
            "WANDB_ENTITY=username\n",
            "WANDB_API_KEY=12312312312312312\n",
            "\n",
            "# Required if using Common Voice dataset\n",
            "HUGGINGFACE_TOKEN=123123123123123\n"
          ]
        }
      ]
    },
    {
      "cell_type": "code",
      "source": [
        "## CPU ONLY TRAINING\n",
        "!python train.py exp=base_test"
      ],
      "metadata": {
        "id": "CP0jcSISoPwF"
      },
      "execution_count": null,
      "outputs": []
    },
    {
      "cell_type": "code",
      "source": [
        "## GPU BASED TRAINING\n",
        "!python train.py exp=base_test trainer.gpus=1"
      ],
      "metadata": {
        "id": "T4tm9QJDvoKZ"
      },
      "execution_count": null,
      "outputs": []
    },
    {
      "cell_type": "code",
      "source": [
        "## RESUME FROM A CHECKPOINT\n",
        "!python train.py exp=base_test +ckpt=/logs/ckpts/2022-08-17-01-22-18/'last.ckpt' trainer.gpus=1"
      ],
      "metadata": {
        "id": "mehqOGJ8vs_B"
      },
      "execution_count": null,
      "outputs": []
    }
  ]
}